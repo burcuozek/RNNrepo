{
 "cells": [
  {
   "cell_type": "markdown",
   "metadata": {},
   "source": [
    "# Recurrent Neural Network"
   ]
  },
  {
   "cell_type": "markdown",
   "metadata": {},
   "source": [
    "RNN is a type of artificial neural network designed for **sequential data** processing. Unlike traditional neural networks, RNNs have connections that form a directed cycle, allowing them to maintain a memory of **previous inputs** in their internal state. This makes RNNs well-suited for tasks involving sequences, such as natural language processing, speech recognition, and time series prediction.\n",
    "\n",
    "\n",
    "Basic RNN modules consist of a single tanh layer in a repetitive pattern. However, their simplicity leads to a **limitation** known as **short memory**, making it challenging to preserve information from earlier time steps in extensive sequential data. To overcome this issue, advanced architectures like **Long Short-Term Memory (LSTM)** and **Gated Recurrent Unit (GRU)** are employed, excelling in retaining information over more extended periods.\n",
    "\n",
    "\n",
    "In the **traditional neural network**, the inputs and the outputs are **independent** of each other, whereas the **output in RNN is dependent on prior elementals within the sequence**. Recurrent networks also **share parameters across each layer of the network**. In feedforward networks, there are different weights across each node. Whereas RNN shares the same weights within each layer of the network and during gradient descent, the weights and basis are **adjusted individually to reduce the loss**.\n",
    "\n",
    "The input layer takes the initial input and sends it to the middle layer, which has multiple hidden layers. Each hidden layer has its own activation functions, weights, and biases. These parameters are standardized across the hidden layers, effectively creating a loop over one hidden layer instead of multiple.\n",
    "\n",
    "Recurrent Neural Networks (RNNs) use **backpropagation through time (BPTT)** instead of traditional backpropagation. In backpropagation, the model adjusts the parameter by calculating errors from the output to the input layer. **BPTT sums the error at each time step as RNN shares parameters across each layer.**"
   ]
  },
  {
   "cell_type": "code",
   "execution_count": 6,
   "metadata": {},
   "outputs": [],
   "source": [
    "# Importing the libraries\n",
    "import numpy as np\n",
    "import pandas as pd\n",
    "import matplotlib.pyplot as plt\n",
    "\n",
    "from tensorflow.keras.models import Sequential\n",
    "from tensorflow.keras.layers import Dense, LSTM, Dropout, GRU, Bidirectional\n",
    "from tensorflow.keras.optimizers import SGD\n",
    "from tensorflow.random import set_seed\n",
    "\n",
    "from sklearn.preprocessing import MinMaxScaler\n",
    "from sklearn.metrics import mean_squared_error\n",
    "\n",
    "set_seed(26)\n",
    "np.random.seed(26)"
   ]
  },
  {
   "cell_type": "code",
   "execution_count": 7,
   "metadata": {},
   "outputs": [
    {
     "data": {
      "text/html": [
       "<div>\n",
       "<style scoped>\n",
       "    .dataframe tbody tr th:only-of-type {\n",
       "        vertical-align: middle;\n",
       "    }\n",
       "\n",
       "    .dataframe tbody tr th {\n",
       "        vertical-align: top;\n",
       "    }\n",
       "\n",
       "    .dataframe thead th {\n",
       "        text-align: right;\n",
       "    }\n",
       "</style>\n",
       "<table border=\"1\" class=\"dataframe\">\n",
       "  <thead>\n",
       "    <tr style=\"text-align: right;\">\n",
       "      <th></th>\n",
       "      <th>Open</th>\n",
       "      <th>High</th>\n",
       "      <th>Low</th>\n",
       "      <th>Close</th>\n",
       "      <th>Volume</th>\n",
       "    </tr>\n",
       "    <tr>\n",
       "      <th>Date</th>\n",
       "      <th></th>\n",
       "      <th></th>\n",
       "      <th></th>\n",
       "      <th></th>\n",
       "      <th></th>\n",
       "    </tr>\n",
       "  </thead>\n",
       "  <tbody>\n",
       "    <tr>\n",
       "      <th>2006-05-25</th>\n",
       "      <td>3.748967</td>\n",
       "      <td>4.283869</td>\n",
       "      <td>3.739664</td>\n",
       "      <td>4.279217</td>\n",
       "      <td>395343000</td>\n",
       "    </tr>\n",
       "    <tr>\n",
       "      <th>2006-05-26</th>\n",
       "      <td>4.307126</td>\n",
       "      <td>4.348058</td>\n",
       "      <td>4.103398</td>\n",
       "      <td>4.179680</td>\n",
       "      <td>103044000</td>\n",
       "    </tr>\n",
       "    <tr>\n",
       "      <th>2006-05-30</th>\n",
       "      <td>4.183400</td>\n",
       "      <td>4.184330</td>\n",
       "      <td>3.986184</td>\n",
       "      <td>4.093164</td>\n",
       "      <td>49898000</td>\n",
       "    </tr>\n",
       "    <tr>\n",
       "      <th>2006-05-31</th>\n",
       "      <td>4.125723</td>\n",
       "      <td>4.219679</td>\n",
       "      <td>4.125723</td>\n",
       "      <td>4.180608</td>\n",
       "      <td>30002000</td>\n",
       "    </tr>\n",
       "    <tr>\n",
       "      <th>2006-06-01</th>\n",
       "      <td>4.179678</td>\n",
       "      <td>4.474572</td>\n",
       "      <td>4.176887</td>\n",
       "      <td>4.419686</td>\n",
       "      <td>62344000</td>\n",
       "    </tr>\n",
       "  </tbody>\n",
       "</table>\n",
       "</div>"
      ],
      "text/plain": [
       "                Open      High       Low     Close     Volume\n",
       "Date                                                         \n",
       "2006-05-25  3.748967  4.283869  3.739664  4.279217  395343000\n",
       "2006-05-26  4.307126  4.348058  4.103398  4.179680  103044000\n",
       "2006-05-30  4.183400  4.184330  3.986184  4.093164   49898000\n",
       "2006-05-31  4.125723  4.219679  4.125723  4.180608   30002000\n",
       "2006-06-01  4.179678  4.474572  4.176887  4.419686   62344000"
      ]
     },
     "metadata": {},
     "output_type": "display_data"
    }
   ],
   "source": [
    "# read dataset, convert date column as date format by using parse_dates\n",
    "dataset = pd.read_csv(\n",
    "    \"Mastercard_stock_history.csv\", index_col=\"Date\", parse_dates=[\"Date\"]\n",
    ").drop([\"Dividends\", \"Stock Splits\"], axis=1)\n",
    "display(dataset.head())\n"
   ]
  },
  {
   "cell_type": "code",
   "execution_count": 8,
   "metadata": {},
   "outputs": [
    {
     "data": {
      "text/html": [
       "<div>\n",
       "<style scoped>\n",
       "    .dataframe tbody tr th:only-of-type {\n",
       "        vertical-align: middle;\n",
       "    }\n",
       "\n",
       "    .dataframe tbody tr th {\n",
       "        vertical-align: top;\n",
       "    }\n",
       "\n",
       "    .dataframe thead th {\n",
       "        text-align: right;\n",
       "    }\n",
       "</style>\n",
       "<table border=\"1\" class=\"dataframe\">\n",
       "  <thead>\n",
       "    <tr style=\"text-align: right;\">\n",
       "      <th></th>\n",
       "      <th>Open</th>\n",
       "      <th>High</th>\n",
       "      <th>Low</th>\n",
       "      <th>Close</th>\n",
       "      <th>Volume</th>\n",
       "    </tr>\n",
       "  </thead>\n",
       "  <tbody>\n",
       "    <tr>\n",
       "      <th>count</th>\n",
       "      <td>3872.000000</td>\n",
       "      <td>3872.000000</td>\n",
       "      <td>3872.000000</td>\n",
       "      <td>3872.000000</td>\n",
       "      <td>3.872000e+03</td>\n",
       "    </tr>\n",
       "    <tr>\n",
       "      <th>mean</th>\n",
       "      <td>104.896814</td>\n",
       "      <td>105.956054</td>\n",
       "      <td>103.769349</td>\n",
       "      <td>104.882714</td>\n",
       "      <td>1.232250e+07</td>\n",
       "    </tr>\n",
       "    <tr>\n",
       "      <th>std</th>\n",
       "      <td>106.245511</td>\n",
       "      <td>107.303589</td>\n",
       "      <td>105.050064</td>\n",
       "      <td>106.168693</td>\n",
       "      <td>1.759665e+07</td>\n",
       "    </tr>\n",
       "    <tr>\n",
       "      <th>min</th>\n",
       "      <td>3.748967</td>\n",
       "      <td>4.102467</td>\n",
       "      <td>3.739664</td>\n",
       "      <td>4.083861</td>\n",
       "      <td>6.411000e+05</td>\n",
       "    </tr>\n",
       "    <tr>\n",
       "      <th>25%</th>\n",
       "      <td>22.347203</td>\n",
       "      <td>22.637997</td>\n",
       "      <td>22.034458</td>\n",
       "      <td>22.300391</td>\n",
       "      <td>3.529475e+06</td>\n",
       "    </tr>\n",
       "    <tr>\n",
       "      <th>50%</th>\n",
       "      <td>70.810079</td>\n",
       "      <td>71.375896</td>\n",
       "      <td>70.224002</td>\n",
       "      <td>70.856083</td>\n",
       "      <td>5.891750e+06</td>\n",
       "    </tr>\n",
       "    <tr>\n",
       "      <th>75%</th>\n",
       "      <td>147.688448</td>\n",
       "      <td>148.645373</td>\n",
       "      <td>146.822013</td>\n",
       "      <td>147.688438</td>\n",
       "      <td>1.319775e+07</td>\n",
       "    </tr>\n",
       "    <tr>\n",
       "      <th>max</th>\n",
       "      <td>392.653890</td>\n",
       "      <td>400.521479</td>\n",
       "      <td>389.747812</td>\n",
       "      <td>394.685730</td>\n",
       "      <td>3.953430e+08</td>\n",
       "    </tr>\n",
       "  </tbody>\n",
       "</table>\n",
       "</div>"
      ],
      "text/plain": [
       "              Open         High          Low        Close        Volume\n",
       "count  3872.000000  3872.000000  3872.000000  3872.000000  3.872000e+03\n",
       "mean    104.896814   105.956054   103.769349   104.882714  1.232250e+07\n",
       "std     106.245511   107.303589   105.050064   106.168693  1.759665e+07\n",
       "min       3.748967     4.102467     3.739664     4.083861  6.411000e+05\n",
       "25%      22.347203    22.637997    22.034458    22.300391  3.529475e+06\n",
       "50%      70.810079    71.375896    70.224002    70.856083  5.891750e+06\n",
       "75%     147.688448   148.645373   146.822013   147.688438  1.319775e+07\n",
       "max     392.653890   400.521479   389.747812   394.685730  3.953430e+08"
      ]
     },
     "metadata": {},
     "output_type": "display_data"
    }
   ],
   "source": [
    "# analyze the basic statistics of the data set\n",
    "display(dataset.describe())"
   ]
  },
  {
   "cell_type": "code",
   "execution_count": 9,
   "metadata": {},
   "outputs": [
    {
     "data": {
      "text/plain": [
       "Open      0\n",
       "High      0\n",
       "Low       0\n",
       "Close     0\n",
       "Volume    0\n",
       "dtype: int64"
      ]
     },
     "execution_count": 9,
     "metadata": {},
     "output_type": "execute_result"
    }
   ],
   "source": [
    "# check if there is any missing values\n",
    "dataset.isna().sum()"
   ]
  },
  {
   "cell_type": "code",
   "execution_count": 10,
   "metadata": {},
   "outputs": [
    {
     "data": {
      "image/png": "[encoded data removed]",
      "text/plain": [
       "<Figure size 1152x288 with 1 Axes>"
      ]
     },
     "metadata": {
      "needs_background": "light"
     },
     "output_type": "display_data"
    }
   ],
   "source": [
    "# Split the dataset into testing and training. An important point to note is that, \n",
    "# since it is a sequential dataset, random splitting won't work. \n",
    "# Therefore, we need to be careful about this. The test set needs to start from the endpoint of the training set.\n",
    "# Plot trainig and test\n",
    "\n",
    "tstart = 2016\n",
    "tend = 2020\n",
    "\n",
    "def train_test_plot(dataset, tstart, tend):\n",
    "    dataset.loc[f\"{tstart}\":f\"{tend}\", \"High\"].plot(figsize=(16, 4), legend=True)\n",
    "    dataset.loc[f\"{tend+1}\":, \"High\"].plot(figsize=(16, 4), legend=True)\n",
    "    plt.legend([f\"Train (Before {tend+1})\", f\"Test ({tend+1} and beyond)\"])\n",
    "    plt.title(\"MasterCard stock price\")\n",
    "    plt.show()\n",
    "\n",
    "train_test_plot(dataset,tstart,tend)"
   ]
  },
  {
   "cell_type": "markdown",
   "metadata": {},
   "source": [
    "## Data Preprocessing"
   ]
  },
  {
   "cell_type": "code",
   "execution_count": 44,
   "metadata": {},
   "outputs": [],
   "source": [
    "def train_test_split(dataset, tstart, tend):\n",
    "    train = dataset.loc[f\"{tstart}\":f\"{tend}\", \"High\"].values\n",
    "    test = dataset.loc[f\"{tend+1}\":, \"High\"].values\n",
    "    return train, test\n",
    "training_set, test_set = train_test_split(dataset, tstart, tend)"
   ]
  },
  {
   "cell_type": "code",
   "execution_count": 45,
   "metadata": {},
   "outputs": [],
   "source": [
    "# Standardize the training set to avoid the outliers or anomalies. \n",
    "sc = MinMaxScaler(feature_range=(0, 1))\n",
    "training_set = training_set.reshape(-1, 1)\n",
    "training_set_scaled = sc.fit_transform(training_set)"
   ]
  },
  {
   "cell_type": "code",
   "execution_count": 46,
   "metadata": {},
   "outputs": [],
   "source": [
    "# The split_sequence function processes a training dataset, dividing it into two sets: \n",
    "# inputs (X_train) and outputs (y_train). \n",
    "# As an illustration, if we take the sequence [1, 2, 3, 4, 5, 6, 7, 8, 9, 10, 11, 12] and set n_step to three, \n",
    "# the function will generate three input timestamps (1, 2, 3) with a corresponding output of 4.\n",
    "\n",
    "def split_sequence(sequence, n_steps):\n",
    "    X, y = list(), list()\n",
    "    for i in range(len(sequence)):\n",
    "        end_ix = i + n_steps\n",
    "        if end_ix > len(sequence) - 1:\n",
    "            break\n",
    "        seq_x, seq_y = sequence[i:end_ix], sequence[end_ix]\n",
    "        X.append(seq_x)\n",
    "        y.append(seq_y)\n",
    "    return np.array(X), np.array(y)\n",
    "\n",
    "\n",
    "n_steps = 60\n",
    "features = 1\n",
    "# split into samples\n",
    "X_train, y_train = split_sequence(training_set_scaled, n_steps)"
   ]
  },
  {
   "cell_type": "code",
   "execution_count": 47,
   "metadata": {},
   "outputs": [
    {
     "name": "stdout",
     "output_type": "stream",
     "text": [
      "1199\n",
      "60\n",
      "1199\n",
      "1\n",
      "(1199, 60, 1)\n",
      "(60, 1)\n",
      "(1199, 1)\n",
      "(1,)\n"
     ]
    }
   ],
   "source": [
    "# print(len(X_train)) \n",
    "# print(len(X_train[0])) \n",
    "# print(len(y_train)) \n",
    "# print(len(y_train[0])) \n",
    "\n",
    "print((X_train.shape)) \n",
    "print((X_train[0].shape)) \n",
    "print((y_train.shape)) \n",
    "print((y_train[0].shape)) "
   ]
  },
  {
   "cell_type": "code",
   "execution_count": 48,
   "metadata": {},
   "outputs": [],
   "source": [
    "# Reshaping X_train for model\n",
    "# It reshapes the input data into a structure with 60 timesteps (columns) and 1 feature (output). \n",
    "# This reshaping is done to match the input requirements of certain types of neural network models, such as LSTM\n",
    "\n",
    "X_train = X_train.reshape(X_train.shape[0],X_train.shape[1],1)"
   ]
  },
  {
   "cell_type": "code",
   "execution_count": 49,
   "metadata": {},
   "outputs": [
    {
     "name": "stdout",
     "output_type": "stream",
     "text": [
      "1199\n",
      "60\n",
      "1199\n",
      "1\n",
      "(1199, 60, 1)\n",
      "(60, 1)\n",
      "(1199, 1)\n",
      "(1,)\n"
     ]
    }
   ],
   "source": [
    "# print(len(X_train)) \n",
    "# print(len(X_train[0])) \n",
    "# print(len(y_train)) \n",
    "# print(len(y_train[0])) \n",
    "\n",
    "print((X_train.shape)) \n",
    "print((X_train[0].shape)) \n",
    "print((y_train.shape)) \n",
    "print((y_train[0].shape)) "
   ]
  },
  {
   "cell_type": "markdown",
   "metadata": {},
   "source": [
    "### Limitations of RNN\n",
    "Simple RNN models usually run into two major issues. These issues are related to gradient, which is the slope of the loss function along with the error function.\n",
    "\n",
    "Vanishing Gradient problem occurs when the gradient becomes so small that updating parameters becomes insignificant; eventually the algorithm stops learning.\n",
    "Exploding Gradient problem occurs when the gradient becomes too large, which makes the model unstable. In this case, larger error gradients accumulate, and the model weights become too large. This issue can cause longer training times and poor model performance.\n",
    "The simple solution to these issues is to reduce the number of hidden layers within the neural network, which will reduce some complexity in RNNs. These issues can also be solved by using advanced RNN architectures such as LSTM and GRU.\n",
    "\n",
    "\n",
    "RNN models often face two significant challenges linked to the gradient – the slope of the loss function in relation to the error function.\n",
    "\n",
    "1 - Vanishing Gradient Problem:\n",
    "Occurs when the gradient becomes extremely small, rendering parameter updates insignificant.\n",
    "\n",
    "2 - Exploding Gradient Problem:\n",
    "\n",
    "Arises when the gradient becomes excessively large, causing model instability.\n",
    "Results in the accumulation of larger error gradients and oversized model weights.\n",
    "\n",
    "### Solutions\n",
    "\n",
    "1 - reduce the number of hidden layers in the neural network\n",
    "\n",
    "2- use more advanced RNN architectures like LSTM and GRU "
   ]
  },
  {
   "cell_type": "markdown",
   "metadata": {},
   "source": [
    "## Long Short-Term Memory (LSTM)"
   ]
  },
  {
   "cell_type": "code",
   "execution_count": 50,
   "metadata": {},
   "outputs": [
    {
     "name": "stdout",
     "output_type": "stream",
     "text": [
      "Model: \"sequential\"\n",
      "_________________________________________________________________\n",
      " Layer (type)                Output Shape              Param #   \n",
      "=================================================================\n",
      " lstm (LSTM)                 (None, 125)               63500     \n",
      "                                                                 \n",
      " dense (Dense)               (None, 1)                 126       \n",
      "                                                                 \n",
      "=================================================================\n",
      "Total params: 63626 (248.54 KB)\n",
      "Trainable params: 63626 (248.54 KB)\n",
      "Non-trainable params: 0 (0.00 Byte)\n",
      "_________________________________________________________________\n"
     ]
    }
   ],
   "source": [
    "# The LSTM architecture\n",
    "model_lstm = Sequential()\n",
    "model_lstm.add(LSTM(units=125, activation=\"tanh\", input_shape=(n_steps, features)))\n",
    "model_lstm.add(Dense(units=1))\n",
    "# Compiling the model\n",
    "model_lstm.compile(optimizer=\"RMSprop\", loss=\"mse\")\n",
    "\n",
    "model_lstm.summary()"
   ]
  },
  {
   "cell_type": "code",
   "execution_count": 51,
   "metadata": {},
   "outputs": [
    {
     "name": "stdout",
     "output_type": "stream",
     "text": [
      "Epoch 1/50\n",
      "38/38 [==============================] - 3s 35ms/step - loss: 0.0123\n",
      "Epoch 2/50\n",
      "38/38 [==============================] - 1s 34ms/step - loss: 0.0020\n",
      "Epoch 3/50\n",
      "38/38 [==============================] - 1s 34ms/step - loss: 0.0021\n",
      "Epoch 4/50\n",
      "38/38 [==============================] - 1s 36ms/step - loss: 0.0018\n",
      "Epoch 5/50\n",
      "38/38 [==============================] - 1s 36ms/step - loss: 0.0013\n",
      "Epoch 6/50\n",
      "38/38 [==============================] - 1s 35ms/step - loss: 0.0013\n",
      "Epoch 7/50\n",
      "38/38 [==============================] - 1s 37ms/step - loss: 9.8342e-04\n",
      "Epoch 8/50\n",
      "38/38 [==============================] - 1s 37ms/step - loss: 9.8083e-04\n",
      "Epoch 9/50\n",
      "38/38 [==============================] - 1s 38ms/step - loss: 9.3161e-04\n",
      "Epoch 10/50\n",
      "38/38 [==============================] - 1s 37ms/step - loss: 9.0346e-04\n",
      "Epoch 11/50\n",
      "38/38 [==============================] - 1s 35ms/step - loss: 8.3313e-04\n",
      "Epoch 12/50\n",
      "38/38 [==============================] - 1s 37ms/step - loss: 8.8381e-04\n",
      "Epoch 13/50\n",
      "38/38 [==============================] - 1s 38ms/step - loss: 7.6661e-04\n",
      "Epoch 14/50\n",
      "38/38 [==============================] - 1s 38ms/step - loss: 8.3383e-04\n",
      "Epoch 15/50\n",
      "38/38 [==============================] - 1s 37ms/step - loss: 6.7643e-04\n",
      "Epoch 16/50\n",
      "38/38 [==============================] - 1s 35ms/step - loss: 6.3109e-04\n",
      "Epoch 17/50\n",
      "38/38 [==============================] - 1s 37ms/step - loss: 7.2184e-04\n",
      "Epoch 18/50\n",
      "38/38 [==============================] - 1s 37ms/step - loss: 6.8717e-04\n",
      "Epoch 19/50\n",
      "38/38 [==============================] - 1s 38ms/step - loss: 5.8605e-04\n",
      "Epoch 20/50\n",
      "38/38 [==============================] - 1s 37ms/step - loss: 6.1400e-04\n",
      "Epoch 21/50\n",
      "38/38 [==============================] - 1s 35ms/step - loss: 5.8124e-04\n",
      "Epoch 22/50\n",
      "38/38 [==============================] - 1s 37ms/step - loss: 6.7169e-04\n",
      "Epoch 23/50\n",
      "38/38 [==============================] - 1s 38ms/step - loss: 5.2961e-04\n",
      "Epoch 24/50\n",
      "38/38 [==============================] - 1s 37ms/step - loss: 5.6277e-04\n",
      "Epoch 25/50\n",
      "38/38 [==============================] - 1s 37ms/step - loss: 6.0516e-04\n",
      "Epoch 26/50\n",
      "38/38 [==============================] - 1s 35ms/step - loss: 5.2440e-04\n",
      "Epoch 27/50\n",
      "38/38 [==============================] - 1s 37ms/step - loss: 4.8170e-04\n",
      "Epoch 28/50\n",
      "38/38 [==============================] - 1s 38ms/step - loss: 6.0845e-04\n",
      "Epoch 29/50\n",
      "38/38 [==============================] - 1s 37ms/step - loss: 5.2027e-04\n",
      "Epoch 30/50\n",
      "38/38 [==============================] - 1s 37ms/step - loss: 5.1919e-04\n",
      "Epoch 31/50\n",
      "38/38 [==============================] - 1s 35ms/step - loss: 4.7629e-04\n",
      "Epoch 32/50\n",
      "38/38 [==============================] - 1s 37ms/step - loss: 5.0296e-04\n",
      "Epoch 33/50\n",
      "38/38 [==============================] - 1s 37ms/step - loss: 4.3261e-04\n",
      "Epoch 34/50\n",
      "38/38 [==============================] - 1s 38ms/step - loss: 4.8188e-04\n",
      "Epoch 35/50\n",
      "38/38 [==============================] - 1s 37ms/step - loss: 4.7250e-04\n",
      "Epoch 36/50\n",
      "38/38 [==============================] - 1s 35ms/step - loss: 4.9813e-04\n",
      "Epoch 37/50\n",
      "38/38 [==============================] - 1s 37ms/step - loss: 4.2640e-04\n",
      "Epoch 38/50\n",
      "38/38 [==============================] - 1s 38ms/step - loss: 4.3595e-04\n",
      "Epoch 39/50\n",
      "38/38 [==============================] - 1s 38ms/step - loss: 4.7182e-04\n",
      "Epoch 40/50\n",
      "38/38 [==============================] - 1s 36ms/step - loss: 4.5394e-04\n",
      "Epoch 41/50\n",
      "38/38 [==============================] - 1s 35ms/step - loss: 4.5122e-04\n",
      "Epoch 42/50\n",
      "38/38 [==============================] - 1s 37ms/step - loss: 4.3250e-04\n",
      "Epoch 43/50\n",
      "38/38 [==============================] - 1s 38ms/step - loss: 4.0526e-04\n",
      "Epoch 44/50\n",
      "38/38 [==============================] - 1s 38ms/step - loss: 4.1419e-04\n",
      "Epoch 45/50\n",
      "38/38 [==============================] - 1s 36ms/step - loss: 4.0400e-04\n",
      "Epoch 46/50\n",
      "38/38 [==============================] - 1s 35ms/step - loss: 4.2994e-04\n",
      "Epoch 47/50\n",
      "38/38 [==============================] - 1s 37ms/step - loss: 3.8844e-04\n",
      "Epoch 48/50\n",
      "38/38 [==============================] - 1s 38ms/step - loss: 4.2351e-04\n",
      "Epoch 49/50\n",
      "38/38 [==============================] - 1s 38ms/step - loss: 4.1054e-04\n",
      "Epoch 50/50\n",
      "38/38 [==============================] - 1s 36ms/step - loss: 3.6053e-04\n"
     ]
    },
    {
     "data": {
      "text/plain": [
       "<keras.src.callbacks.History at 0x2b0b06c1d220>"
      ]
     },
     "execution_count": 51,
     "metadata": {},
     "output_type": "execute_result"
    }
   ],
   "source": [
    "model_lstm.fit(X_train, y_train, epochs=50, batch_size=32)"
   ]
  },
  {
   "cell_type": "code",
   "execution_count": 13,
   "metadata": {},
   "outputs": [
    {
     "name": "stdout",
     "output_type": "stream",
     "text": [
      "7/7 [==============================] - 1s 19ms/step\n"
     ]
    }
   ],
   "source": [
    "dataset_total = dataset.loc[:,\"High\"]\n",
    "inputs = dataset_total[len(dataset_total) - len(test_set) - n_steps :].values\n",
    "inputs = inputs.reshape(-1, 1)\n",
    "#scaling\n",
    "inputs = sc.transform(inputs)\n",
    "\n",
    "# Split into samples\n",
    "X_test, y_test = split_sequence(inputs, n_steps)\n",
    "# reshape\n",
    "X_test = X_test.reshape(X_test.shape[0], X_test.shape[1], features)\n",
    "#prediction\n",
    "predicted_stock_price = model_lstm.predict(X_test)\n",
    "#inverse transform the values\n",
    "predicted_stock_price = sc.inverse_transform(predicted_stock_price)"
   ]
  },
  {
   "cell_type": "code",
   "execution_count": 14,
   "metadata": {},
   "outputs": [],
   "source": [
    "def plot_predictions(test, predicted):\n",
    "    plt.plot(test, color=\"gray\", label=\"Real\")\n",
    "    plt.plot(predicted, color=\"red\", label=\"Predicted\")\n",
    "    plt.title(\"MasterCard Stock Price Prediction\")\n",
    "    plt.xlabel(\"Time\")\n",
    "    plt.ylabel(\"MasterCard Stock Price\")\n",
    "    plt.legend()\n",
    "    plt.show()\n",
    "\n",
    "\n",
    "def return_rmse(test, predicted):\n",
    "    rmse = np.sqrt(mean_squared_error(test, predicted))\n",
    "    print(\"The root mean squared error is {:.2f}.\".format(rmse))"
   ]
  },
  {
   "cell_type": "code",
   "execution_count": 16,
   "metadata": {},
   "outputs": [
    {
     "data": {
      "image/png": "[encoded data removed]",
      "text/plain": [
       "<Figure size 432x288 with 1 Axes>"
      ]
     },
     "metadata": {
      "needs_background": "light"
     },
     "output_type": "display_data"
    }
   ],
   "source": [
    "plot_predictions(test_set,predicted_stock_price)"
   ]
  },
  {
   "cell_type": "code",
   "execution_count": 17,
   "metadata": {},
   "outputs": [
    {
     "name": "stdout",
     "output_type": "stream",
     "text": [
      "The root mean squared error is 6.57.\n"
     ]
    }
   ],
   "source": [
    "return_rmse(test_set,predicted_stock_price)"
   ]
  },
  {
   "cell_type": "code",
   "execution_count": 18,
   "metadata": {},
   "outputs": [
    {
     "name": "stdout",
     "output_type": "stream",
     "text": [
      "Model: \"sequential_1\"\n",
      "_________________________________________________________________\n",
      " Layer (type)                Output Shape              Param #   \n",
      "=================================================================\n",
      " gru (GRU)                   (None, 125)               48000     \n",
      "                                                                 \n",
      " dense_1 (Dense)             (None, 1)                 126       \n",
      "                                                                 \n",
      "=================================================================\n",
      "Total params: 48126 (187.99 KB)\n",
      "Trainable params: 48126 (187.99 KB)\n",
      "Non-trainable params: 0 (0.00 Byte)\n",
      "_________________________________________________________________\n"
     ]
    }
   ],
   "source": [
    "model_gru = Sequential()\n",
    "model_gru.add(GRU(units=125, activation=\"tanh\", input_shape=(n_steps, features)))\n",
    "model_gru.add(Dense(units=1))\n",
    "# Compiling the RNN\n",
    "model_gru.compile(optimizer=\"RMSprop\", loss=\"mse\")\n",
    "\n",
    "model_gru.summary()"
   ]
  },
  {
   "cell_type": "code",
   "execution_count": 19,
   "metadata": {},
   "outputs": [
    {
     "name": "stdout",
     "output_type": "stream",
     "text": [
      "Epoch 1/50\n",
      "38/38 [==============================] - 4s 53ms/step - loss: 0.0203\n",
      "Epoch 2/50\n",
      "38/38 [==============================] - 2s 44ms/step - loss: 0.0017\n",
      "Epoch 3/50\n",
      "38/38 [==============================] - 2s 43ms/step - loss: 0.0017\n",
      "Epoch 4/50\n",
      "38/38 [==============================] - 2s 44ms/step - loss: 0.0014\n",
      "Epoch 5/50\n",
      "38/38 [==============================] - 2s 44ms/step - loss: 0.0010\n",
      "Epoch 6/50\n",
      "38/38 [==============================] - 2s 44ms/step - loss: 0.0012\n",
      "Epoch 7/50\n",
      "38/38 [==============================] - 2s 44ms/step - loss: 7.3022e-04\n",
      "Epoch 8/50\n",
      "38/38 [==============================] - 2s 44ms/step - loss: 9.3992e-04\n",
      "Epoch 9/50\n",
      "38/38 [==============================] - 2s 44ms/step - loss: 7.7447e-04\n",
      "Epoch 10/50\n",
      "38/38 [==============================] - 2s 43ms/step - loss: 8.7900e-04\n",
      "Epoch 11/50\n",
      "38/38 [==============================] - 2s 42ms/step - loss: 7.1808e-04\n",
      "Epoch 12/50\n",
      "38/38 [==============================] - 2s 47ms/step - loss: 6.7235e-04\n",
      "Epoch 13/50\n",
      "38/38 [==============================] - 2s 48ms/step - loss: 6.3807e-04\n",
      "Epoch 14/50\n",
      "38/38 [==============================] - 2s 45ms/step - loss: 6.3878e-04\n",
      "Epoch 15/50\n",
      "38/38 [==============================] - 2s 43ms/step - loss: 5.7918e-04\n",
      "Epoch 16/50\n",
      "38/38 [==============================] - 2s 44ms/step - loss: 6.5376e-04\n",
      "Epoch 17/50\n",
      "38/38 [==============================] - 2s 44ms/step - loss: 6.1290e-04\n",
      "Epoch 18/50\n",
      "38/38 [==============================] - 2s 44ms/step - loss: 5.4564e-04\n",
      "Epoch 19/50\n",
      "38/38 [==============================] - 2s 44ms/step - loss: 5.3077e-04\n",
      "Epoch 20/50\n",
      "38/38 [==============================] - 2s 44ms/step - loss: 5.5974e-04\n",
      "Epoch 21/50\n",
      "38/38 [==============================] - 2s 44ms/step - loss: 5.6816e-04\n",
      "Epoch 22/50\n",
      "38/38 [==============================] - 2s 42ms/step - loss: 5.2033e-04\n",
      "Epoch 23/50\n",
      "38/38 [==============================] - 2s 48ms/step - loss: 5.0732e-04\n",
      "Epoch 24/50\n",
      "38/38 [==============================] - 2s 48ms/step - loss: 5.6098e-04\n",
      "Epoch 25/50\n",
      "38/38 [==============================] - 2s 45ms/step - loss: 5.5962e-04\n",
      "Epoch 26/50\n",
      "38/38 [==============================] - 2s 44ms/step - loss: 5.0362e-04\n",
      "Epoch 27/50\n",
      "38/38 [==============================] - 2s 43ms/step - loss: 4.5770e-04\n",
      "Epoch 28/50\n",
      "38/38 [==============================] - 2s 44ms/step - loss: 4.6256e-04\n",
      "Epoch 29/50\n",
      "38/38 [==============================] - 2s 43ms/step - loss: 4.5630e-04\n",
      "Epoch 30/50\n",
      "38/38 [==============================] - 2s 44ms/step - loss: 4.8057e-04\n",
      "Epoch 31/50\n",
      "38/38 [==============================] - 2s 44ms/step - loss: 4.2400e-04\n",
      "Epoch 32/50\n",
      "38/38 [==============================] - 2s 44ms/step - loss: 4.2818e-04\n",
      "Epoch 33/50\n",
      "38/38 [==============================] - 2s 43ms/step - loss: 4.7856e-04\n",
      "Epoch 34/50\n",
      "38/38 [==============================] - 2s 47ms/step - loss: 4.0821e-04\n",
      "Epoch 35/50\n",
      "38/38 [==============================] - 2s 46ms/step - loss: 4.4164e-04\n",
      "Epoch 36/50\n",
      "38/38 [==============================] - 2s 43ms/step - loss: 4.2175e-04\n",
      "Epoch 37/50\n",
      "38/38 [==============================] - 2s 45ms/step - loss: 4.2879e-04\n",
      "Epoch 38/50\n",
      "38/38 [==============================] - 2s 44ms/step - loss: 4.3792e-04\n",
      "Epoch 39/50\n",
      "38/38 [==============================] - 2s 45ms/step - loss: 3.7204e-04\n",
      "Epoch 40/50\n",
      "38/38 [==============================] - 2s 44ms/step - loss: 4.5964e-04\n",
      "Epoch 41/50\n",
      "38/38 [==============================] - 2s 45ms/step - loss: 3.9039e-04\n",
      "Epoch 42/50\n",
      "38/38 [==============================] - 2s 44ms/step - loss: 3.8263e-04\n",
      "Epoch 43/50\n",
      "38/38 [==============================] - 2s 44ms/step - loss: 4.8687e-04\n",
      "Epoch 44/50\n",
      "38/38 [==============================] - 2s 44ms/step - loss: 3.4177e-04\n",
      "Epoch 45/50\n",
      "38/38 [==============================] - 2s 42ms/step - loss: 4.0274e-04\n",
      "Epoch 46/50\n",
      "38/38 [==============================] - 2s 47ms/step - loss: 3.7621e-04\n",
      "Epoch 47/50\n",
      "38/38 [==============================] - 2s 40ms/step - loss: 4.0241e-04\n",
      "Epoch 48/50\n",
      "38/38 [==============================] - 2s 42ms/step - loss: 3.2414e-04\n",
      "Epoch 49/50\n",
      "38/38 [==============================] - 2s 44ms/step - loss: 4.2656e-04\n",
      "Epoch 50/50\n",
      "38/38 [==============================] - 1s 35ms/step - loss: 3.5815e-04\n"
     ]
    },
    {
     "data": {
      "text/plain": [
       "<keras.src.callbacks.History at 0x2ad093f7fbb0>"
      ]
     },
     "execution_count": 19,
     "metadata": {},
     "output_type": "execute_result"
    }
   ],
   "source": [
    "model_gru.fit(X_train, y_train, epochs=50, batch_size=32)"
   ]
  },
  {
   "cell_type": "code",
   "execution_count": 20,
   "metadata": {},
   "outputs": [
    {
     "name": "stdout",
     "output_type": "stream",
     "text": [
      "7/7 [==============================] - 0s 11ms/step\n"
     ]
    },
    {
     "data": {
      "image/png": "[encoded data removed]",
      "text/plain": [
       "<Figure size 432x288 with 1 Axes>"
      ]
     },
     "metadata": {
      "needs_background": "light"
     },
     "output_type": "display_data"
    }
   ],
   "source": [
    "GRU_predicted_stock_price = model_gru.predict(X_test)\n",
    "GRU_predicted_stock_price = sc.inverse_transform(GRU_predicted_stock_price)\n",
    "plot_predictions(test_set, GRU_predicted_stock_price)\n"
   ]
  },
  {
   "cell_type": "code",
   "execution_count": 21,
   "metadata": {},
   "outputs": [
    {
     "name": "stdout",
     "output_type": "stream",
     "text": [
      "The root mean squared error is 5.92.\n"
     ]
    }
   ],
   "source": [
    "return_rmse(test_set,GRU_predicted_stock_price)\n",
    "\n"
   ]
  },
  {
   "cell_type": "code",
   "execution_count": null,
   "metadata": {},
   "outputs": [],
   "source": []
  }
 ],
 "metadata": {
  "kernelspec": {
   "display_name": "Python 3 (ipykernel)",
   "language": "python",
   "name": "python3"
  },
  "language_info": {
   "codemirror_mode": {
    "name": "ipython",
    "version": 3
   },
   "file_extension": ".py",
   "mimetype": "text/x-python",
   "name": "python",
   "nbconvert_exporter": "python",
   "pygments_lexer": "ipython3",
   "version": "3.9.12"
  }
 },
 "nbformat": 4,
 "nbformat_minor": 4
}
